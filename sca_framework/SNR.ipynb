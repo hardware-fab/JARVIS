{
 "cells": [
  {
   "cell_type": "code",
   "execution_count": null,
   "id": "155f28b8",
   "metadata": {},
   "outputs": [],
   "source": [
    "from matplotlib import pyplot as plt\n",
    "from .attack import Snr\n",
    "from .io_dat.traces_bin import TracesBin"
   ]
  },
  {
   "cell_type": "code",
   "execution_count": null,
   "id": "244a482c",
   "metadata": {},
   "outputs": [],
   "source": [
    "trace_file = \"</path/to/traces/file.dat>\"\n",
    "key = TracesBin(trace_file).getKey()"
   ]
  },
  {
   "cell_type": "markdown",
   "id": "d9575cc1",
   "metadata": {},
   "source": [
    "Perform Signal-to-Noise Ratio analysis.\n",
    "\n",
    "Select the proper _SNR_ class based on the analyzed cipher. It has a few optional parameters:\n",
    "- `target_byte`: Determine on which intermediate byte compute the SNR (default is byte 0).\n",
    "- `filter`: Apply a highpass filter to traces as preprocessing (default is False).\n",
    "- `aggregate_n_samples`: Determine how many consecutive samples to average together as preprocessing (default is 1).\n"
   ]
  },
  {
   "cell_type": "code",
   "execution_count": null,
   "id": "1e504091",
   "metadata": {},
   "outputs": [],
   "source": [
    "snr = Snr(key)\n",
    "snr_static = snr.fromFile(trace_file)"
   ]
  },
  {
   "cell_type": "markdown",
   "id": "4c5d7b2c",
   "metadata": {},
   "source": [
    "Plot the result:"
   ]
  },
  {
   "cell_type": "code",
   "execution_count": null,
   "id": "6c48a08c",
   "metadata": {},
   "outputs": [],
   "source": [
    "fsize = 25\n",
    "fig = plt.figure(figsize=(12, 6))\n",
    "ax1 = fig.add_subplot(111)\n",
    "ax1.set_xlabel('Samples', fontsize=fsize)\n",
    "ax1.set_ylabel('SNR', fontsize=fsize)\n",
    "\n",
    "plt.rcParams.update({'font.size': fsize*0.8})\n",
    "plt.plot(snr_static)"
   ]
  }
 ],
 "metadata": {
  "kernelspec": {
   "display_name": "Python 3.8.10 64-bit",
   "language": "python",
   "name": "python3"
  },
  "language_info": {
   "codemirror_mode": {
    "name": "ipython",
    "version": 3
   },
   "file_extension": ".py",
   "mimetype": "text/x-python",
   "name": "python",
   "nbconvert_exporter": "python",
   "pygments_lexer": "ipython3",
   "version": "3.9.5"
  },
  "vscode": {
   "interpreter": {
    "hash": "916dbcbb3f70747c44a77c7bcd40155683ae19c65e1c03b4aa3499c5328201f1"
   }
  }
 },
 "nbformat": 4,
 "nbformat_minor": 5
}
