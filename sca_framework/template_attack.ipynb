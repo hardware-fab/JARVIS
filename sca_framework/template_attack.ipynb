{
 "cells": [
  {
   "cell_type": "code",
   "execution_count": null,
   "id": "155f28b8",
   "metadata": {},
   "outputs": [],
   "source": [
    "import os\n",
    "import numpy as np\n",
    "from matplotlib import pyplot as plt\n",
    "from attack import TemplateAttack\n",
    "from io_dat.traces_bin import TracesBin"
   ]
  },
  {
   "cell_type": "code",
   "execution_count": null,
   "id": "979b052c",
   "metadata": {},
   "outputs": [],
   "source": [
    "trace_folder = \"</path/to/traces/folder/>\"\n",
    "template_folder = \"</path/to/templates/folder/>\""
   ]
  },
  {
   "cell_type": "markdown",
   "id": "b8d6a3a3",
   "metadata": {},
   "source": [
    "Retrive all traces (and plaintext) files and check if there is a file for each key byte:"
   ]
  },
  {
   "cell_type": "code",
   "execution_count": null,
   "id": "89cff18b",
   "metadata": {},
   "outputs": [],
   "source": [
    "all_trace_files = np.sort(\n",
    "    [trace_folder + f for f in os.listdir(trace_folder)]).tolist()\n",
    "assert len(all_trace_files) == 256"
   ]
  },
  {
   "cell_type": "markdown",
   "id": "d60f6a28",
   "metadata": {},
   "source": [
    "Select the proper _Template Attack_ class based on the analyzed cipher. It has a few optional parameters:\n",
    "- `n_traces`: Determine how many traces use to profile for each key (default uses all traces in file).\n",
    "- `mode`: Leakage point on where to perform the attack. Change based of the cipher.\n",
    "- `target_byte`: Determine on which intermediate byte profile the Template (default is byte 0).\n",
    "- `filter`: Apply a highpass filter to traces as preprocessing (default is False).\n",
    "- `aggregate_n_samples`: Determine how many consecutive samples to average together as preprocessing (default is 1).\n",
    "- `n_principal_comp`: Determine how many principal components use in PCA (default is 10)."
   ]
  },
  {
   "cell_type": "code",
   "execution_count": null,
   "id": "85be5e07",
   "metadata": {},
   "outputs": [],
   "source": [
    "ta = TemplateAttack(template_folder)"
   ]
  },
  {
   "attachments": {},
   "cell_type": "markdown",
   "id": "2e7155fa",
   "metadata": {},
   "source": [
    "## Profile Template"
   ]
  },
  {
   "cell_type": "markdown",
   "id": "b80254f5",
   "metadata": {},
   "source": [
    "Compute the principal components and save them in `template_folder`:"
   ]
  },
  {
   "cell_type": "code",
   "execution_count": null,
   "id": "bc99b37d",
   "metadata": {},
   "outputs": [],
   "source": [
    "ta.computePCA(all_trace_files)\n",
    "ta.fit(all_trace_files)"
   ]
  },
  {
   "attachments": {},
   "cell_type": "markdown",
   "id": "2a956cbf",
   "metadata": {},
   "source": [
    "## Compute Guessing Metrics"
   ]
  },
  {
   "cell_type": "code",
   "execution_count": null,
   "id": "e97e8fc8",
   "metadata": {},
   "outputs": [],
   "source": [
    "attack_folder = \"</path/to/attack/traces/folder/>\"\n",
    "trace_files = np.sort(\n",
    "    [attack_folder + f for f in os.listdir(attack_folder)]).tolist()"
   ]
  },
  {
   "cell_type": "markdown",
   "id": "027b1f8b",
   "metadata": {},
   "source": [
    "Compute, save and plot metrics. In folder `template_folder` there is a .txt summary of the principal side-channel metrics."
   ]
  },
  {
   "cell_type": "code",
   "execution_count": null,
   "id": "e765cfac",
   "metadata": {},
   "outputs": [],
   "source": [
    "ge, gd, ranks = ta.guessingMetrics(trace_files)\n",
    "print(f\"Guessing distance: {gd}, Guessing entropy: {ge}\")"
   ]
  },
  {
   "cell_type": "code",
   "execution_count": null,
   "id": "a1d7c629",
   "metadata": {},
   "outputs": [],
   "source": [
    "fig = plt.figure(figsize=(8, 5))\n",
    "plt.plot(np.mean(ranks, axis=0))\n",
    "plt.grid(True)\n",
    "plt.ylim(0, 180)"
   ]
  },
  {
   "attachments": {},
   "cell_type": "markdown",
   "id": "79bc4871",
   "metadata": {},
   "source": [
    "## Attack a single file"
   ]
  },
  {
   "cell_type": "markdown",
   "id": "4d1c45d8",
   "metadata": {},
   "source": [
    "Load traces and plaintext to perform the attack:"
   ]
  },
  {
   "cell_type": "code",
   "execution_count": null,
   "id": "f30bad73",
   "metadata": {},
   "outputs": [],
   "source": [
    "attack_folder = \"</path/to/attack/traces/folder/>\""
   ]
  },
  {
   "cell_type": "code",
   "execution_count": null,
   "id": "cd14f807",
   "metadata": {},
   "outputs": [],
   "source": [
    "listdir = np.sort(os.listdir(attack_folder)).tolist()\n",
    "trace_file = listdir[0]\n",
    "\n",
    "print(attack_folder+trace_file)"
   ]
  },
  {
   "cell_type": "code",
   "execution_count": null,
   "id": "e4e34543",
   "metadata": {},
   "outputs": [],
   "source": [
    "trabin = TracesBin(attack_folder+trace_file)\n",
    "atkTraces, atkPTexts = trabin.getAllTraces()\n",
    "atkKey = trabin.getKey()[0]"
   ]
  },
  {
   "cell_type": "markdown",
   "id": "b294ca5e",
   "metadata": {},
   "source": [
    "Performed the actual attack and plot the result:"
   ]
  },
  {
   "cell_type": "code",
   "execution_count": null,
   "id": "442b9fa7",
   "metadata": {},
   "outputs": [],
   "source": [
    "p_k = ta.predict(atkTraces, atkPTexts)"
   ]
  },
  {
   "cell_type": "code",
   "execution_count": null,
   "id": "a3079d54",
   "metadata": {},
   "outputs": [],
   "source": [
    "fsize = 20\n",
    "fig = plt.figure(figsize=(10, 5))\n",
    "ax1 = fig.add_subplot(111)\n",
    "ax1.set_xlabel('N. traces', fontsize=fsize)\n",
    "ax1.set_ylabel('Relative probability', fontsize=fsize)\n",
    "data = np.cumsum(p_k, axis=0)\n",
    "\n",
    "plt.rcParams.update({'font.size': fsize*0.8})\n",
    "plt.grid(True)\n",
    "for i in range(256):\n",
    "    if i != atkKey:\n",
    "        plt.plot(data[:, i]-np.min(data, 1),\n",
    "                 linewidth=1.5, alpha=0.6, color='grey')\n",
    "plt.plot(data[:, atkKey]-np.min(data, 1), linewidth=3,\n",
    "         color='black', label=\"Attack key\")\n",
    "plt.legend(fontsize=fsize*0.9)"
   ]
  }
 ],
 "metadata": {
  "kernelspec": {
   "display_name": "Python 3.8.10 64-bit",
   "language": "python",
   "name": "python3"
  },
  "language_info": {
   "codemirror_mode": {
    "name": "ipython",
    "version": 3
   },
   "file_extension": ".py",
   "mimetype": "text/x-python",
   "name": "python",
   "nbconvert_exporter": "python",
   "pygments_lexer": "ipython3",
   "version": "3.11.7"
  },
  "vscode": {
   "interpreter": {
    "hash": "916dbcbb3f70747c44a77c7bcd40155683ae19c65e1c03b4aa3499c5328201f1"
   }
  }
 },
 "nbformat": 4,
 "nbformat_minor": 5
}
