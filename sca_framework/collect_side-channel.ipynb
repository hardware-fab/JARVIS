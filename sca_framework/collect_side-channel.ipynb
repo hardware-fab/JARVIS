{
 "cells": [
  {
   "cell_type": "code",
   "execution_count": null,
   "id": "079e2342",
   "metadata": {},
   "outputs": [],
   "source": [
    "import os\n",
    "import time\n",
    "from tqdm.auto import tqdm\n",
    "from chipwhisperer.capture.targets.CW305 import CW305\n",
    "from low_level.jarvis import Jarvis\n",
    "from low_level.picoscope import PicoScope\n",
    "from ciphers import Aes\n",
    "from io_dat.output_writer import OutputWriter"
   ]
  },
  {
   "cell_type": "markdown",
   "id": "e3e19930",
   "metadata": {},
   "source": [
    "## Load bitstream"
   ]
  },
  {
   "cell_type": "code",
   "execution_count": null,
   "id": "1bf5d7b5",
   "metadata": {},
   "outputs": [],
   "source": [
    "PLL_NUM = 1\n",
    "FREQUENCY_CLK_PLL_1 = 100  # MHz\n",
    "VCC = 1.0  # Volts\n",
    "\n",
    "BISTREAM_PATH = \"</path/to/bistream.bit>\"\n",
    "BINARY_PATH = \"</path/to/binary.vmem>\""
   ]
  },
  {
   "cell_type": "code",
   "execution_count": null,
   "id": "59d37bc8",
   "metadata": {},
   "outputs": [],
   "source": [
    "assert os.path.isfile(BISTREAM_PATH), \"Bitstream file not found\"\n",
    "\n",
    "cw = CW305()\n",
    "cw.con(bsfile=BISTREAM_PATH, force=True)\n",
    "# Voltage configuration\n",
    "cw.vccint_set(VCC)\n",
    "assert cw.vccint_get() == VCC\n",
    "print(\"Vcc =\", VCC)\n",
    "# PLL configuration\n",
    "# we need to output to PLL_1 because we are using N13 pin for the clock pin in the xdc\n",
    "cw.pll.cdce906init()\n",
    "frequency = FREQUENCY_CLK_PLL_1 * 1000000\n",
    "cw.pll.pll_outfreq_set(freq=frequency, outnum=PLL_NUM)\n",
    "print(\"PLL {} - frequency: {:,}\".format(PLL_NUM, cw.pll.pll_outfreq_get(PLL_NUM)))\n",
    "cw.pll.pll_outenable_set(enabled=True, outnum=PLL_NUM)\n",
    "print(\"PLL {} - {}\".format(PLL_NUM,\n",
    "      \"enabled\" if cw.pll.pll_outenable_get(PLL_NUM) else \"disabled\"))"
   ]
  },
  {
   "cell_type": "code",
   "execution_count": null,
   "id": "bb51e1c7",
   "metadata": {},
   "outputs": [],
   "source": [
    "jarvis = Jarvis(\"/dev/ttyUSB0\")\n",
    "assert jarvis.isConnected(), \"Cannot connect to SoC\""
   ]
  },
  {
   "cell_type": "code",
   "execution_count": null,
   "id": "ce13d760",
   "metadata": {},
   "outputs": [],
   "source": [
    "assert os.path.isfile(BINARY_PATH), \"Binary file not found\"\n",
    "jarvis.loadBinary(BINARY_PATH)"
   ]
  },
  {
   "cell_type": "markdown",
   "id": "0284b1a8",
   "metadata": {},
   "source": [
    "## Configure addresses"
   ]
  },
  {
   "cell_type": "code",
   "execution_count": null,
   "id": "00762790",
   "metadata": {},
   "outputs": [],
   "source": [
    "PLAINTEXT = 0x41414141414141414141414141414141\n",
    "KEY       = 0x2b7e151628aed2a6abf7158809cf4f3c\n",
    "\n",
    "breakpoints   = [0x00, 0x00]\n",
    "triggerpoints = [0x00, 0x00]\n",
    "state_addr    = 0x00\n",
    "key_addr      = 0x00\n",
    "\n",
    "state_size_words = 4\n",
    "state_size_bytes = 4*state_size_words"
   ]
  },
  {
   "cell_type": "markdown",
   "id": "b3d9da75",
   "metadata": {},
   "source": [
    "## Set Jarvis"
   ]
  },
  {
   "cell_type": "code",
   "execution_count": null,
   "id": "92a6d414",
   "metadata": {},
   "outputs": [],
   "source": [
    "jarvis.configureCpu(Jarvis.cpuId, breakpoints, triggerpoints)\n",
    "assert jarvis.getBreakPoints(Jarvis.cpuId) == breakpoints\n",
    "assert jarvis.getTriggerPoints(Jarvis.cpuId) == triggerpoints"
   ]
  },
  {
   "cell_type": "code",
   "execution_count": null,
   "id": "18b8e6b6",
   "metadata": {},
   "outputs": [],
   "source": [
    "jarvis.memoryWriteVariable(state_addr, state_size_words, PLAINTEXT)\n",
    "readState = jarvis.memoryReadVariable(state_addr, state_size_words)\n",
    "assert readState == PLAINTEXT"
   ]
  },
  {
   "cell_type": "code",
   "execution_count": null,
   "id": "9821bd8e",
   "metadata": {},
   "outputs": [],
   "source": [
    "jarvis.memoryWriteVariable(key_addr, state_size_words, KEY)\n",
    "readKey = jarvis.memoryReadVariable(key_addr, state_size_words)\n",
    "assert readKey == KEY"
   ]
  },
  {
   "cell_type": "code",
   "execution_count": null,
   "id": "df242273",
   "metadata": {},
   "outputs": [],
   "source": [
    "jarvis.restartCpu(Jarvis.cpuId)"
   ]
  },
  {
   "cell_type": "markdown",
   "id": "7bfc6487",
   "metadata": {},
   "source": [
    "## Set Piscoscope"
   ]
  },
  {
   "cell_type": "code",
   "execution_count": null,
   "id": "e72ad8da",
   "metadata": {},
   "outputs": [],
   "source": [
    "BATCH_SIZE = 2048\n",
    "BATCH_NUMBER = 1\n",
    "\n",
    "batch_size_jarvis = 2048"
   ]
  },
  {
   "cell_type": "code",
   "execution_count": null,
   "id": "a797009e",
   "metadata": {},
   "outputs": [],
   "source": [
    "pico = PicoScope()"
   ]
  },
  {
   "cell_type": "code",
   "execution_count": null,
   "id": "f831d8ae",
   "metadata": {},
   "outputs": [],
   "source": [
    "pico.setBatchSize(BATCH_SIZE)\n",
    "pico.setup(3)\n",
    "\n",
    "assert pico.getSamplesPerChannel() == pico.getSamplesPerSegment()*BATCH_SIZE\n",
    "\n",
    "# Segment duration in nanoseconds\n",
    "print(\"Segment duration:\", pico.getTimeBaseNanoseconds()\n",
    "      * pico.getSamplesPerSegment(), \"ns\")\n",
    "print(\"Sampling frequency: \", 1000/pico.getTimeBaseNanoseconds(), \"MHz\")"
   ]
  },
  {
   "cell_type": "markdown",
   "id": "d820dfc8",
   "metadata": {},
   "source": [
    "## Capture side-channel traces\n",
    "We save one batch for each key byte value"
   ]
  },
  {
   "cell_type": "code",
   "execution_count": null,
   "id": "9c16bfa0",
   "metadata": {},
   "outputs": [],
   "source": [
    "TRACES_PATH = \"</path/to/save/traces/folder>\"\n",
    "BATCH_NUMBER = 1"
   ]
  },
  {
   "cell_type": "code",
   "execution_count": null,
   "id": "c39b0282",
   "metadata": {},
   "outputs": [],
   "source": [
    "first_key_bytes = list(range(0, 256))\n",
    "n_traces_to_save = 1024\n",
    "\n",
    "prefix = \"%d-%d-%d_AES_k0x\" % time.localtime()[0:3]\n",
    "suffix = f\"_{n_traces_to_save}.dat\"\n",
    "\n",
    "jarvis.setFrequency(Jarvis.dfsId, 50)\n",
    "\n",
    "for kb in tqdm(first_key_bytes):\n",
    "\n",
    "    # Update first key's byte\n",
    "    jarvis.memoryWriteVariable(state_addr, state_size_words, PLAINTEXT)\n",
    "    jarvis.memoryWriteByte(key_addr, int(kb))\n",
    "\n",
    "    curren_key = jarvis.memoryReadVariable(key_addr, state_size_words)\n",
    "    current_plain = jarvis.memoryReadVariable(state_addr, state_size_words)\n",
    "\n",
    "    # Configure output file\n",
    "    output_file = TRACES_PATH + prefix + \"%.2x\" % kb + suffix\n",
    "    ow = OutputWriter(output_file, pico)\n",
    "    ow.writeDatHeader(curren_key)\n",
    "\n",
    "    jarvis.restartCpu(Jarvis.cpuId)\n",
    "\n",
    "    for _ in range(0, BATCH_NUMBER):\n",
    "        pico.run()\n",
    "\n",
    "        jarvis.resumeCPU(Jarvis.cpuId)\n",
    "\n",
    "        # Compute golden model plaintexts\n",
    "        cipher = Aes(curren_key, current_plain)\n",
    "        texts = cipher.computePlaintexts(batch_size_jarvis + 1)\n",
    "\n",
    "        jarvis.waitForBreakPoint(Jarvis.cpuId, 100000)\n",
    "        # Depending on the DU configuration, the CPU may halt one clock cycle after\n",
    "        # reaching the breakpoint. In this case, the CPU may be halted one instruction later. \n",
    "        assert (jarvis.getPc(Jarvis.cpuId) == breakpoints[1]) | (\n",
    "            jarvis.getPc(Jarvis.cpuId) == (breakpoints[1]+4)), f\"Actual PC is {hex(jarvis.getPc(Jarvis.cpuId))}\"\n",
    "\n",
    "        current_plain = texts[-1]\n",
    "        assert current_plain == jarvis.memoryReadVariable(state_addr, state_size_words)\n",
    "\n",
    "        # Retrieve data from PicoScope and write it to file\n",
    "        data = pico.retrieveData(\"A\")\n",
    "        ow.writeMemorySegments(data[:n_traces_to_save],\n",
    "                              texts[:n_traces_to_save])\n",
    "\n",
    "        jarvis.restartCpu(Jarvis.cpuId)"
   ]
  }
 ],
 "metadata": {
  "kernelspec": {
   "display_name": "Python 3.8.10 64-bit",
   "language": "python",
   "name": "python3"
  },
  "language_info": {
   "codemirror_mode": {
    "name": "ipython",
    "version": 3
   },
   "file_extension": ".py",
   "mimetype": "text/x-python",
   "name": "python",
   "nbconvert_exporter": "python",
   "pygments_lexer": "ipython3",
   "version": "3.11.7"
  },
  "vscode": {
   "interpreter": {
    "hash": "916dbcbb3f70747c44a77c7bcd40155683ae19c65e1c03b4aa3499c5328201f1"
   }
  }
 },
 "nbformat": 4,
 "nbformat_minor": 5
}
