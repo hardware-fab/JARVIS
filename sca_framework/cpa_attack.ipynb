{
 "cells": [
  {
   "cell_type": "code",
   "execution_count": 1,
   "id": "eb1cd7c5",
   "metadata": {},
   "outputs": [],
   "source": [
    "from attack import Cpa\n",
    "from io_dat.traces_bin import TracesBin"
   ]
  },
  {
   "cell_type": "code",
   "execution_count": null,
   "id": "e0f7a43f",
   "metadata": {},
   "outputs": [],
   "source": [
    "trace_file = \"</path/to/traces/file.dat>\""
   ]
  },
  {
   "cell_type": "code",
   "execution_count": null,
   "id": "7bd2f2ab",
   "metadata": {},
   "outputs": [],
   "source": [
    "key = TracesBin(trace_file).getKey()"
   ]
  },
  {
   "cell_type": "markdown",
   "id": "e12b7ddc",
   "metadata": {},
   "source": [
    "Perform Correlation Power Analysis.\n",
    "\n",
    "The CPA class has a few optional parameters:\n",
    "- `filter`: Apply a highpass filter to traces as preprocessing (default is False).\n",
    "- `aggregate_n_samples`: Determine how many consecutive samples to average together as preprocessing (default is 1).\n"
   ]
  },
  {
   "cell_type": "code",
   "execution_count": null,
   "id": "f591c10c",
   "metadata": {},
   "outputs": [],
   "source": [
    "cpa = Cpa()\n",
    "r, rank = cpa.fromFile(trace_file)\n",
    "print(f\"Rank: {rank}\")"
   ]
  },
  {
   "cell_type": "markdown",
   "id": "9056665e",
   "metadata": {},
   "source": [
    "Plot the results:"
   ]
  },
  {
   "cell_type": "code",
   "execution_count": null,
   "id": "4400a069",
   "metadata": {},
   "outputs": [],
   "source": [
    "byte = 0\n",
    "cpa.plot(key, byte)\n",
    "cpa.plotPearsonOverTraces(key, byte)"
   ]
  }
 ],
 "metadata": {
  "kernelspec": {
   "display_name": "Python 3.8.10 64-bit",
   "language": "python",
   "name": "python3"
  },
  "language_info": {
   "codemirror_mode": {
    "name": "ipython",
    "version": 3
   },
   "file_extension": ".py",
   "mimetype": "text/x-python",
   "name": "python",
   "nbconvert_exporter": "python",
   "pygments_lexer": "ipython3",
   "version": "3.11.7"
  },
  "vscode": {
   "interpreter": {
    "hash": "916dbcbb3f70747c44a77c7bcd40155683ae19c65e1c03b4aa3499c5328201f1"
   }
  }
 },
 "nbformat": 4,
 "nbformat_minor": 5
}
